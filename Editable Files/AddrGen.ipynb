{
 "cells": [
  {
   "cell_type": "code",
   "execution_count": 2,
   "metadata": {},
   "outputs": [
    {
     "name": "stdout",
     "output_type": "stream",
     "text": [
      "Test Network Address: muDpz7cxVcvMcFZgNxv5ANX7VwRvZBvu7X 34\n",
      "Test Network Private Key (WIF): 93LGsipcdo9Q7HRCq7FNCC6xUFJgQ2gLaVNroz38Yn92kNocJG5 51\n"
     ]
    }
   ],
   "source": [
    "import hashlib\n",
    "import base58\n",
    "import random\n",
    "\n",
    "def generate_test_address():\n",
    "    # Generate a random 256-bit number (32 bytes)\n",
    "    random_number = random.getrandbits(256)\n",
    "\n",
    "    # Generate a new private key (256-bit random number)\n",
    "    private_key = random_number.to_bytes(32, byteorder=\"big\")\n",
    "\n",
    "    # Add test network prefix (0xEF) to the private key\n",
    "    private_key_extended = b'\\xEF' + private_key\n",
    "\n",
    "    # Calculate the double SHA256 hash of the extended private key\n",
    "    hash1 = hashlib.sha256(private_key_extended).digest()\n",
    "    hash2 = hashlib.sha256(hash1).digest()\n",
    "\n",
    "    # Take the first 4 bytes of the double hash as the checksum\n",
    "    checksum = hash2[:4]\n",
    "\n",
    "    # Append the checksum to the extended private key\n",
    "    private_key_with_checksum = private_key_extended + checksum\n",
    "\n",
    "    # Convert the extended private key to Base58 format (Wallet Import Format - WIF)\n",
    "    wif = base58.b58encode(private_key_with_checksum).decode('utf-8')\n",
    "\n",
    "    # Derive the public key from the private key\n",
    "    # (This example uses an uncompressed public key)\n",
    "    public_key = hashlib.sha256(private_key_with_checksum).digest()\n",
    "\n",
    "    # Calculate the RIPEMD-160 hash of the public key\n",
    "    ripemd160 = hashlib.new('ripemd160')\n",
    "    ripemd160.update(public_key)\n",
    "    hash3 = ripemd160.digest()\n",
    "\n",
    "    # Add test network prefix (0x6F) to the hash\n",
    "    hash_with_prefix = b'\\x6F' + hash3\n",
    "\n",
    "    # Calculate the double SHA256 hash of the hash with prefix\n",
    "    hash4 = hashlib.sha256(hash_with_prefix).digest()\n",
    "    hash5 = hashlib.sha256(hash4).digest()\n",
    "\n",
    "    # Take the first 4 bytes of the double hash as the checksum\n",
    "    checksum2 = hash5[:4]\n",
    "\n",
    "    # Append the checksum to the hash with prefix\n",
    "    hash_with_prefix_and_checksum = hash_with_prefix + checksum2\n",
    "\n",
    "    # Convert the hash with prefix and checksum to Base58 format (Test network address)\n",
    "    address = base58.b58encode(hash_with_prefix_and_checksum).decode('utf-8')\n",
    "\n",
    "    return address, wif\n",
    "\n",
    "# Generate a test network address\n",
    "test_address, test_wif = generate_test_address()\n",
    "print(\"Test Network Address:\", test_address , len(test_address))\n",
    "print(\"Test Network Private Key (WIF):\", test_wif, len(test_wif))\n"
   ]
  },
  {
   "cell_type": "code",
   "execution_count": 4,
   "metadata": {},
   "outputs": [
    {
     "name": "stdout",
     "output_type": "stream",
     "text": [
      "10,000 addresses generated so far!\n",
      "20,000 addresses generated so far!\n",
      "30,000 addresses generated so far!\n",
      "40,000 addresses generated so far!\n",
      "Found vanity address after 47832 attempt!\n",
      "Vanity Address: mmisF2bzvxec22hs3MPMU9i9GgXgmrGNQu\n",
      "Vanity Private Key (WIF): 92JrKZ11tywYhMZxwrN3jqZaGW94vLKuanCKsfAynH7ah18ECax\n"
     ]
    }
   ],
   "source": [
    "# Function to generate address and wif for main network with input of 3 characters that after first index are the first 3 characters of the address\n",
    "# count = [0] * 26\n",
    "def generate_vanity_address(vanity_letters):\n",
    "    count = 0\n",
    "    ten_thousand_count = 0\n",
    "    while(True):\n",
    "        if count == 10000:\n",
    "            ten_thousand_count += 1\n",
    "            print(f'{ten_thousand_count}0,000 addresses generated so far!')\n",
    "            count = 0\n",
    "        test_address, test_wif = generate_test_address()\n",
    "        # count number of alphabet occurrences of the second index in address\n",
    "        # count[ord(test_address[1]) - 97] += 1\n",
    "        # print(count)\n",
    "        if test_address[1:len(vanity_letters)+1] == vanity_letters:\n",
    "            print(\"Found vanity address after \"+ str(ten_thousand_count * 10000 + count) + \" attempt!\")\n",
    "            return test_address, test_wif\n",
    "        count += 1\n",
    "        \n",
    "# Generate a vanity address\n",
    "vanity_address, vanity_wif = generate_vanity_address(\"mis\")\n",
    "print(\"Vanity Address:\", vanity_address)\n",
    "print(\"Vanity Private Key (WIF):\", vanity_wif)"
   ]
  }
 ],
 "metadata": {
  "kernelspec": {
   "display_name": "Python 3",
   "language": "python",
   "name": "python3"
  },
  "language_info": {
   "codemirror_mode": {
    "name": "ipython",
    "version": 3
   },
   "file_extension": ".py",
   "mimetype": "text/x-python",
   "name": "python",
   "nbconvert_exporter": "python",
   "pygments_lexer": "ipython3",
   "version": "3.9.13"
  },
  "orig_nbformat": 4
 },
 "nbformat": 4,
 "nbformat_minor": 2
}
